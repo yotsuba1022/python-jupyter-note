{
 "cells": [
  {
   "cell_type": "code",
   "execution_count": 1,
   "metadata": {
    "collapsed": true
   },
   "outputs": [],
   "source": [
    "l = [1, 2, 3, 4, 5]"
   ]
  },
  {
   "cell_type": "code",
   "execution_count": 2,
   "metadata": {},
   "outputs": [
    {
     "data": {
      "text/plain": [
       "[1, 2, 3, 4, 5, 6]"
      ]
     },
     "execution_count": 2,
     "metadata": {},
     "output_type": "execute_result"
    }
   ],
   "source": [
    "l.append(6)\n",
    "l"
   ]
  },
  {
   "cell_type": "code",
   "execution_count": 3,
   "metadata": {},
   "outputs": [
    {
     "data": {
      "text/plain": [
       "1"
      ]
     },
     "execution_count": 3,
     "metadata": {},
     "output_type": "execute_result"
    }
   ],
   "source": [
    "l.count(3)"
   ]
  },
  {
   "cell_type": "code",
   "execution_count": 6,
   "metadata": {},
   "outputs": [
    {
     "name": "stdout",
     "output_type": "stream",
     "text": [
      "Help on method_descriptor:\n",
      "\n",
      "count(...)\n",
      "    L.count(value) -> integer -- return number of occurrences of value\n",
      "\n"
     ]
    }
   ],
   "source": [
    "help(list.count)"
   ]
  },
  {
   "cell_type": "code",
   "execution_count": 8,
   "metadata": {},
   "outputs": [
    {
     "name": "stdout",
     "output_type": "stream",
     "text": [
      "QQ La~\n"
     ]
    }
   ],
   "source": [
    "def qq_la():\n",
    "    print('QQ La~')\n",
    "\n",
    "\n",
    "qq_la()"
   ]
  },
  {
   "cell_type": "code",
   "execution_count": 10,
   "metadata": {},
   "outputs": [
    {
     "name": "stdout",
     "output_type": "stream",
     "text": [
      "3\n",
      "QQ La~\n"
     ]
    }
   ],
   "source": [
    "def method_mix(num1, num2):\n",
    "    print(num1 + num2)\n",
    "    qq_la()\n",
    "    \n",
    "method_mix(1, 2)"
   ]
  },
  {
   "cell_type": "code",
   "execution_count": 11,
   "metadata": {},
   "outputs": [
    {
     "name": "stdout",
     "output_type": "stream",
     "text": [
      "[0, 1, 2, 3, 4, 5, 6, 7, 8, 9, 10, 11, 12, 13, 14, 15, 16, 17, 18, 19]\n"
     ]
    }
   ],
   "source": [
    "def get_list():\n",
    "    return range(20)\n",
    "\n",
    "print get_list()"
   ]
  },
  {
   "cell_type": "code",
   "execution_count": 12,
   "metadata": {},
   "outputs": [
    {
     "name": "stdout",
     "output_type": "stream",
     "text": [
      "1 is prime.\n",
      "2 is prime.\n",
      "3 is prime.\n",
      "Not prime\n",
      "5 is prime.\n",
      "Not prime\n",
      "7 is prime.\n",
      "Not prime\n",
      "Not prime\n",
      "Not prime\n",
      "11 is prime.\n",
      "Not prime\n",
      "13 is prime.\n",
      "Not prime\n",
      "Not prime\n",
      "Not prime\n",
      "17 is prime.\n",
      "Not prime\n",
      "19 is prime.\n",
      "Not prime\n",
      "Not prime\n",
      "Not prime\n",
      "23 is prime.\n",
      "Not prime\n",
      "Not prime\n",
      "Not prime\n",
      "Not prime\n",
      "Not prime\n",
      "29 is prime.\n",
      "Not prime\n",
      "31 is prime.\n",
      "Not prime\n",
      "Not prime\n",
      "Not prime\n",
      "Not prime\n",
      "Not prime\n",
      "37 is prime.\n",
      "Not prime\n",
      "Not prime\n",
      "Not prime\n",
      "41 is prime.\n",
      "Not prime\n",
      "43 is prime.\n",
      "Not prime\n",
      "Not prime\n",
      "Not prime\n",
      "47 is prime.\n",
      "Not prime\n",
      "Not prime\n",
      "Not prime\n",
      "Not prime\n",
      "Not prime\n",
      "53 is prime.\n",
      "Not prime\n",
      "Not prime\n",
      "Not prime\n",
      "Not prime\n",
      "Not prime\n",
      "59 is prime.\n",
      "Not prime\n",
      "61 is prime.\n",
      "Not prime\n",
      "Not prime\n",
      "Not prime\n",
      "Not prime\n",
      "Not prime\n",
      "67 is prime.\n",
      "Not prime\n",
      "Not prime\n",
      "Not prime\n",
      "71 is prime.\n",
      "Not prime\n",
      "73 is prime.\n",
      "Not prime\n",
      "Not prime\n",
      "Not prime\n",
      "Not prime\n",
      "Not prime\n",
      "79 is prime.\n",
      "Not prime\n",
      "Not prime\n",
      "Not prime\n",
      "83 is prime.\n",
      "Not prime\n",
      "Not prime\n",
      "Not prime\n",
      "Not prime\n",
      "Not prime\n",
      "89 is prime.\n",
      "Not prime\n",
      "Not prime\n",
      "Not prime\n",
      "Not prime\n",
      "Not prime\n",
      "Not prime\n",
      "Not prime\n",
      "97 is prime.\n",
      "Not prime\n",
      "Not prime\n"
     ]
    },
    {
     "data": {
      "text/plain": [
       "[None,\n",
       " None,\n",
       " None,\n",
       " None,\n",
       " None,\n",
       " None,\n",
       " None,\n",
       " None,\n",
       " None,\n",
       " None,\n",
       " None,\n",
       " None,\n",
       " None,\n",
       " None,\n",
       " None,\n",
       " None,\n",
       " None,\n",
       " None,\n",
       " None,\n",
       " None,\n",
       " None,\n",
       " None,\n",
       " None,\n",
       " None,\n",
       " None,\n",
       " None,\n",
       " None,\n",
       " None,\n",
       " None,\n",
       " None,\n",
       " None,\n",
       " None,\n",
       " None,\n",
       " None,\n",
       " None,\n",
       " None,\n",
       " None,\n",
       " None,\n",
       " None,\n",
       " None,\n",
       " None,\n",
       " None,\n",
       " None,\n",
       " None,\n",
       " None,\n",
       " None,\n",
       " None,\n",
       " None,\n",
       " None,\n",
       " None,\n",
       " None,\n",
       " None,\n",
       " None,\n",
       " None,\n",
       " None,\n",
       " None,\n",
       " None,\n",
       " None,\n",
       " None,\n",
       " None,\n",
       " None,\n",
       " None,\n",
       " None,\n",
       " None,\n",
       " None,\n",
       " None,\n",
       " None,\n",
       " None,\n",
       " None,\n",
       " None,\n",
       " None,\n",
       " None,\n",
       " None,\n",
       " None,\n",
       " None,\n",
       " None,\n",
       " None,\n",
       " None,\n",
       " None,\n",
       " None,\n",
       " None,\n",
       " None,\n",
       " None,\n",
       " None,\n",
       " None,\n",
       " None,\n",
       " None,\n",
       " None,\n",
       " None,\n",
       " None,\n",
       " None,\n",
       " None,\n",
       " None,\n",
       " None,\n",
       " None,\n",
       " None,\n",
       " None,\n",
       " None,\n",
       " None]"
      ]
     },
     "execution_count": 12,
     "metadata": {},
     "output_type": "execute_result"
    }
   ],
   "source": [
    "def is_prime(num):\n",
    "    for n in range(2, num):\n",
    "        if num % n == 0:\n",
    "            break\n",
    "    else:\n",
    "        print str(num) + ' is prime.'\n",
    "            \n",
    "[is_prime(x) for x in range(1, 100)]"
   ]
  },
  {
   "cell_type": "code",
   "execution_count": null,
   "metadata": {
    "collapsed": true
   },
   "outputs": [],
   "source": []
  }
 ],
 "metadata": {
  "kernelspec": {
   "display_name": "Python 3",
   "language": "python",
   "name": "python3"
  },
  "language_info": {
   "codemirror_mode": {
    "name": "ipython",
    "version": 2
   },
   "file_extension": ".py",
   "mimetype": "text/x-python",
   "name": "python",
   "nbconvert_exporter": "python",
   "pygments_lexer": "ipython2",
   "version": "2.7.13"
  }
 },
 "nbformat": 4,
 "nbformat_minor": 2
}
