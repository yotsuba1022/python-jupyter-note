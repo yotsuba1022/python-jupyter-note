{
 "cells": [
  {
   "cell_type": "markdown",
   "metadata": {},
   "source": [
    "# Functions Review"
   ]
  },
  {
   "cell_type": "code",
   "execution_count": 54,
   "metadata": {
    "collapsed": true
   },
   "outputs": [],
   "source": [
    "def func():\n",
    "    return 1"
   ]
  },
  {
   "cell_type": "code",
   "execution_count": 55,
   "metadata": {},
   "outputs": [
    {
     "data": {
      "text/plain": [
       "1"
      ]
     },
     "execution_count": 55,
     "metadata": {},
     "output_type": "execute_result"
    }
   ],
   "source": [
    "func()"
   ]
  },
  {
   "cell_type": "markdown",
   "metadata": {},
   "source": [
    "# Scope Review"
   ]
  },
  {
   "cell_type": "code",
   "execution_count": 56,
   "metadata": {
    "collapsed": true
   },
   "outputs": [],
   "source": [
    "s = 'Global Variable'\n",
    "\n",
    "def func():\n",
    "    print locals()"
   ]
  },
  {
   "cell_type": "code",
   "execution_count": 57,
   "metadata": {},
   "outputs": [
    {
     "name": "stdout",
     "output_type": "stream",
     "text": [
      "{'__': <function welcome at 0x10ba462a8>, '_13': <function hello at 0x10ba19ed8>, '_i56': u\"s = 'Global Variable'\\n\\ndef func():\\n    print locals()\", '_i55': u'func()', '_i54': u'def func():\\n    return 1', '_i53': u'other(hello)', '_i52': u'welcome()', '__builtin__': <module '__builtin__' (built-in)>, '_i50': u'def hello(name=\\'Ruru\\'):\\n    print \\'The hello() function has been executed\\'\\n    \\n    def greet():\\n        return \\'\\\\t This is inside the greet() function\\'\\n    \\n    def welcome():\\n        return \"\\\\t This is inside the welcome() function\"\\n    \\n    print greet()\\n    print welcome()\\n    print \"Now we are back inside the hello() function\"', 'quit': <IPython.core.autocall.ZMQExitAutocall object at 0x10b8f5050>, '_i11': u'hello()', '_i57': u'print globals()', '_55': 1, 'other': <function other at 0x10ba46500>, '_i': u\"s = 'Global Variable'\\n\\ndef func():\\n    print locals()\", '_29': 'Hello Ruru', '_26': 'Global Variable', '_22': 1, '__doc__': 'Automatically created module for IPython interactive environment', '_41': <function greet at 0x10ba46668>, '_46': <function welcome at 0x10ba462a8>, '_i51': u'hello()', 'func': <function func at 0x10ba46b18>, '_sh': <module 'IPython.core.shadowns' from '/usr/local/lib/python2.7/site-packages/IPython/core/shadowns.pyc'>, '_8': 'Global Variable', '_2': 1, '_i13': u'greet', '_i12': u'greet = hello', '_iii': u'def func():\\n    return 1', '_14': 'Hello Ruru', '_i17': u'greet()', '_i16': u'hello()', '_i15': u'del hello', '_i14': u'greet()', 'x': <function welcome at 0x10ba462a8>, '_i19': u'hello()', '_i18': u'def hello(name=\\'Jose\\'):\\n    print \\'The hello() function has been executed\\'\\n    \\n    def greet():\\n        return \\'\\\\t This is inside the greet() function\\'\\n    \\n    def welcome():\\n        return \"\\\\t This is inside the welcome() function\"\\n    \\n    print greet()\\n    print welcome()\\n    print \"Now we are back inside the hello() function\"', '_oh': {32: 'Hello Ruru', 2: 1, 37: <function welcome at 0x10ba46488>, 8: 'Global Variable', 41: <function greet at 0x10ba46668>, 11: 'Hello Ruru', 13: <function hello at 0x10ba19ed8>, 14: 'Hello Ruru', 17: 'Hello Ruru', 46: <function welcome at 0x10ba462a8>, 22: 1, 55: 1, 26: 'Global Variable', 29: 'Hello Ruru', 31: <function hello at 0x10ba46230>}, 'Out': {32: 'Hello Ruru', 2: 1, 37: <function welcome at 0x10ba46488>, 8: 'Global Variable', 41: <function greet at 0x10ba46668>, 11: 'Hello Ruru', 13: <function hello at 0x10ba19ed8>, 14: 'Hello Ruru', 17: 'Hello Ruru', 46: <function welcome at 0x10ba462a8>, 22: 1, 55: 1, 26: 'Global Variable', 29: 'Hello Ruru', 31: <function hello at 0x10ba46230>}, '_dh': [u'/Users/Carl/work/Project/python/python-practice-notebook'], '_i49': u\"def hello():\\n    return 'Hi Ruru!'\\n\\ndef other(func):\\n    print 'Other code would go here'\\n    print func()\", '_17': 'Hello Ruru', '_i9': u'func()', '_i8': u\"globals()['s']\", '_i7': u\"globals['s']\", '_i6': u'print globals().keys()', '_i5': u'print globals.keys()', '_i4': u'print globals()', '_i3': u\"s = 'Global Variable'\\n\\ndef func():\\n    print locals()\", '_i2': u'func()', '_i1': u'def func():\\n    return 1', '__builtins__': <module '__builtin__' (built-in)>, '_i10': u\"def hello(name = 'Ruru'):\\n    return 'Hello ' + name\", 'exit': <IPython.core.autocall.ZMQExitAutocall object at 0x10b8f5050>, 'get_ipython': <bound method ZMQInteractiveShell.get_ipython of <ipykernel.zmqshell.ZMQInteractiveShell object at 0x10b7931d0>>, '_i28': u\"def hello(name = 'Ruru'):\\n    return 'Hello ' + name\", '_i29': u'hello()', '_i26': u\"globals()['s']\", '_i27': u'func()', '_i24': u'print globals()', '_i25': u'print globals().keys()', '_i22': u'func()', '_i23': u\"s = 'Global Variable'\\n\\ndef func():\\n    print locals()\", '_i20': u'welcome()', '_i21': u'def func():\\n    return 1', '_i47': u'print x()', '_i48': u\"def hello():\\n    return 'Hi Jose!'\\n\\ndef other(func):\\n    print 'Other code would go here'\\n    print func()\", '_11': 'Hello Ruru', '_i44': u\"print x(name='Yoyo')\", '_i45': u\"x = hello('Yoyo')\", '_i46': u'x', '_ih': ['', u'def func():\\n    return 1', u'func()', u\"s = 'Global Variable'\\n\\ndef func():\\n    print locals()\", u'print globals()', u'print globals.keys()', u'print globals().keys()', u\"globals['s']\", u\"globals()['s']\", u'func()', u\"def hello(name = 'Ruru'):\\n    return 'Hello ' + name\", u'hello()', u'greet = hello', u'greet', u'greet()', u'del hello', u'hello()', u'greet()', u'def hello(name=\\'Jose\\'):\\n    print \\'The hello() function has been executed\\'\\n    \\n    def greet():\\n        return \\'\\\\t This is inside the greet() function\\'\\n    \\n    def welcome():\\n        return \"\\\\t This is inside the welcome() function\"\\n    \\n    print greet()\\n    print welcome()\\n    print \"Now we are back inside the hello() function\"', u'hello()', u'welcome()', u'def func():\\n    return 1', u'func()', u\"s = 'Global Variable'\\n\\ndef func():\\n    print locals()\", u'print globals()', u'print globals().keys()', u\"globals()['s']\", u'func()', u\"def hello(name = 'Ruru'):\\n    return 'Hello ' + name\", u'hello()', u'greet = hello', u'greet', u'greet()', u'del hello', u'hello()', u'def hello(name=\\'Ruru\\'):\\n    \\n    def greet():\\n        return \\'\\\\t This is inside the greet() function\\'\\n    \\n    def welcome():\\n        return \"\\\\t This is inside the welcome() function\"\\n    \\n    if name == \\'Jose\\':\\n        return greet\\n    else:\\n        return welcome', u'x = hello()', u'x', u'print x()', u'def hello(name=\\'Ruru\\'):\\n    \\n    def greet():\\n        return \\'\\\\t This is inside the greet() function\\'\\n    \\n    def welcome():\\n        return \"\\\\t This is inside the welcome() function\"\\n    \\n    if name == \\'Ruru\\':\\n        return greet\\n    else:\\n        return welcome', u'x = hello()', u'x', u'print x()', u\"print x('Yoyo')\", u\"print x(name='Yoyo')\", u\"x = hello('Yoyo')\", u'x', u'print x()', u\"def hello():\\n    return 'Hi Jose!'\\n\\ndef other(func):\\n    print 'Other code would go here'\\n    print func()\", u\"def hello():\\n    return 'Hi Ruru!'\\n\\ndef other(func):\\n    print 'Other code would go here'\\n    print func()\", u'def hello(name=\\'Ruru\\'):\\n    print \\'The hello() function has been executed\\'\\n    \\n    def greet():\\n        return \\'\\\\t This is inside the greet() function\\'\\n    \\n    def welcome():\\n        return \"\\\\t This is inside the welcome() function\"\\n    \\n    print greet()\\n    print welcome()\\n    print \"Now we are back inside the hello() function\"', u'hello()', u'welcome()', u'other(hello)', u'def func():\\n    return 1', u'func()', u\"s = 'Global Variable'\\n\\ndef func():\\n    print locals()\", u'print globals()'], '_i40': u'x = hello()', '_i41': u'x', '_i42': u'print x()', '_i43': u\"print x('Yoyo')\", '_i31': u'greet', '__name__': '__main__', '___': <function greet at 0x10ba46668>, '_': 1, '_32': 'Hello Ruru', 'greet': <function hello at 0x10ba46230>, '_i34': u'hello()', '_i39': u'def hello(name=\\'Ruru\\'):\\n    \\n    def greet():\\n        return \\'\\\\t This is inside the greet() function\\'\\n    \\n    def welcome():\\n        return \"\\\\t This is inside the welcome() function\"\\n    \\n    if name == \\'Ruru\\':\\n        return greet\\n    else:\\n        return welcome', '_i38': u'print x()', 's': 'Global Variable', '_i37': u'x', '_ii': u'func()', 'In': ['', u'def func():\\n    return 1', u'func()', u\"s = 'Global Variable'\\n\\ndef func():\\n    print locals()\", u'print globals()', u'print globals.keys()', u'print globals().keys()', u\"globals['s']\", u\"globals()['s']\", u'func()', u\"def hello(name = 'Ruru'):\\n    return 'Hello ' + name\", u'hello()', u'greet = hello', u'greet', u'greet()', u'del hello', u'hello()', u'greet()', u'def hello(name=\\'Jose\\'):\\n    print \\'The hello() function has been executed\\'\\n    \\n    def greet():\\n        return \\'\\\\t This is inside the greet() function\\'\\n    \\n    def welcome():\\n        return \"\\\\t This is inside the welcome() function\"\\n    \\n    print greet()\\n    print welcome()\\n    print \"Now we are back inside the hello() function\"', u'hello()', u'welcome()', u'def func():\\n    return 1', u'func()', u\"s = 'Global Variable'\\n\\ndef func():\\n    print locals()\", u'print globals()', u'print globals().keys()', u\"globals()['s']\", u'func()', u\"def hello(name = 'Ruru'):\\n    return 'Hello ' + name\", u'hello()', u'greet = hello', u'greet', u'greet()', u'del hello', u'hello()', u'def hello(name=\\'Ruru\\'):\\n    \\n    def greet():\\n        return \\'\\\\t This is inside the greet() function\\'\\n    \\n    def welcome():\\n        return \"\\\\t This is inside the welcome() function\"\\n    \\n    if name == \\'Jose\\':\\n        return greet\\n    else:\\n        return welcome', u'x = hello()', u'x', u'print x()', u'def hello(name=\\'Ruru\\'):\\n    \\n    def greet():\\n        return \\'\\\\t This is inside the greet() function\\'\\n    \\n    def welcome():\\n        return \"\\\\t This is inside the welcome() function\"\\n    \\n    if name == \\'Ruru\\':\\n        return greet\\n    else:\\n        return welcome', u'x = hello()', u'x', u'print x()', u\"print x('Yoyo')\", u\"print x(name='Yoyo')\", u\"x = hello('Yoyo')\", u'x', u'print x()', u\"def hello():\\n    return 'Hi Jose!'\\n\\ndef other(func):\\n    print 'Other code would go here'\\n    print func()\", u\"def hello():\\n    return 'Hi Ruru!'\\n\\ndef other(func):\\n    print 'Other code would go here'\\n    print func()\", u'def hello(name=\\'Ruru\\'):\\n    print \\'The hello() function has been executed\\'\\n    \\n    def greet():\\n        return \\'\\\\t This is inside the greet() function\\'\\n    \\n    def welcome():\\n        return \"\\\\t This is inside the welcome() function\"\\n    \\n    print greet()\\n    print welcome()\\n    print \"Now we are back inside the hello() function\"', u'hello()', u'welcome()', u'other(hello)', u'def func():\\n    return 1', u'func()', u\"s = 'Global Variable'\\n\\ndef func():\\n    print locals()\", u'print globals()'], '_31': <function hello at 0x10ba46230>, '_i30': u'greet = hello', '_i33': u'del hello', '_i32': u'greet()', '_i35': u'def hello(name=\\'Ruru\\'):\\n    \\n    def greet():\\n        return \\'\\\\t This is inside the greet() function\\'\\n    \\n    def welcome():\\n        return \"\\\\t This is inside the welcome() function\"\\n    \\n    if name == \\'Jose\\':\\n        return greet\\n    else:\\n        return welcome', 'hello': <function hello at 0x10ba467d0>, '_37': <function welcome at 0x10ba46488>, '_i36': u'x = hello()'}\n"
     ]
    }
   ],
   "source": [
    "print globals()"
   ]
  },
  {
   "cell_type": "code",
   "execution_count": 58,
   "metadata": {},
   "outputs": [
    {
     "name": "stdout",
     "output_type": "stream",
     "text": [
      "['__', '_i58', '_13', '_i56', '_i55', '_i54', '_i53', '_i52', '__builtin__', '_i50', 'quit', '_i11', '_i57', '_55', 'other', '_i', '_29', '_26', '_22', '__doc__', '_41', '_46', '_i51', 'func', '_sh', '_8', '_2', '_i13', '_i12', '_iii', '_14', '_i17', '_i16', '_i15', '_i14', 'x', '_i19', '_i18', '_oh', 'Out', '_dh', '_i49', '_17', '_i9', '_i8', '_i7', '_i6', '_i5', '_i4', '_i3', '_i2', '_i1', '__builtins__', '_i10', 'exit', 'get_ipython', '_i28', '_i29', '_i26', '_i27', '_i24', '_i25', '_i22', '_i23', '_i20', '_i21', '_i47', '_i48', '_11', '_i44', '_i45', '_i46', '_ih', '_i40', '_i41', '_i42', '_i43', '_i31', '__name__', '___', '_', '_32', 'greet', '_i34', '_i39', '_i38', 's', '_i37', '_ii', 'In', '_31', '_i30', '_i33', '_i32', '_i35', 'hello', '_37', '_i36']\n"
     ]
    }
   ],
   "source": [
    "print globals().keys()"
   ]
  },
  {
   "cell_type": "code",
   "execution_count": 59,
   "metadata": {},
   "outputs": [
    {
     "data": {
      "text/plain": [
       "'Global Variable'"
      ]
     },
     "execution_count": 59,
     "metadata": {},
     "output_type": "execute_result"
    }
   ],
   "source": [
    "globals()['s']"
   ]
  },
  {
   "cell_type": "code",
   "execution_count": 60,
   "metadata": {},
   "outputs": [
    {
     "name": "stdout",
     "output_type": "stream",
     "text": [
      "{}\n"
     ]
    }
   ],
   "source": [
    "func()"
   ]
  },
  {
   "cell_type": "code",
   "execution_count": 61,
   "metadata": {
    "collapsed": true
   },
   "outputs": [],
   "source": [
    "def hello(name = 'Ruru'):\n",
    "    return 'Hello ' + name"
   ]
  },
  {
   "cell_type": "code",
   "execution_count": 62,
   "metadata": {},
   "outputs": [
    {
     "data": {
      "text/plain": [
       "'Hello Ruru'"
      ]
     },
     "execution_count": 62,
     "metadata": {},
     "output_type": "execute_result"
    }
   ],
   "source": [
    "hello()"
   ]
  },
  {
   "cell_type": "code",
   "execution_count": 63,
   "metadata": {
    "collapsed": true
   },
   "outputs": [],
   "source": [
    "greet = hello"
   ]
  },
  {
   "cell_type": "code",
   "execution_count": 64,
   "metadata": {},
   "outputs": [
    {
     "data": {
      "text/plain": [
       "<function __main__.hello>"
      ]
     },
     "execution_count": 64,
     "metadata": {},
     "output_type": "execute_result"
    }
   ],
   "source": [
    "greet"
   ]
  },
  {
   "cell_type": "code",
   "execution_count": 65,
   "metadata": {},
   "outputs": [
    {
     "data": {
      "text/plain": [
       "'Hello Ruru'"
      ]
     },
     "execution_count": 65,
     "metadata": {},
     "output_type": "execute_result"
    }
   ],
   "source": [
    "greet()"
   ]
  },
  {
   "cell_type": "code",
   "execution_count": 66,
   "metadata": {
    "collapsed": true
   },
   "outputs": [],
   "source": [
    "del hello"
   ]
  },
  {
   "cell_type": "code",
   "execution_count": 67,
   "metadata": {},
   "outputs": [
    {
     "ename": "NameError",
     "evalue": "name 'hello' is not defined",
     "output_type": "error",
     "traceback": [
      "\u001b[0;31m---------------------------------------------------------------------------\u001b[0m",
      "\u001b[0;31mNameError\u001b[0m                                 Traceback (most recent call last)",
      "\u001b[0;32m<ipython-input-67-a803225a2f97>\u001b[0m in \u001b[0;36m<module>\u001b[0;34m()\u001b[0m\n\u001b[0;32m----> 1\u001b[0;31m \u001b[0mhello\u001b[0m\u001b[0;34m(\u001b[0m\u001b[0;34m)\u001b[0m\u001b[0;34m\u001b[0m\u001b[0m\n\u001b[0m",
      "\u001b[0;31mNameError\u001b[0m: name 'hello' is not defined"
     ]
    }
   ],
   "source": [
    "hello()"
   ]
  },
  {
   "cell_type": "code",
   "execution_count": null,
   "metadata": {},
   "outputs": [],
   "source": [
    "greet()"
   ]
  },
  {
   "cell_type": "markdown",
   "metadata": {},
   "source": [
    "# Functions within functions"
   ]
  },
  {
   "cell_type": "code",
   "execution_count": null,
   "metadata": {
    "collapsed": true
   },
   "outputs": [],
   "source": [
    "def hello(name='Ruru'):\n",
    "    print 'The hello() function has been executed'\n",
    "    \n",
    "    def greet():\n",
    "        return '\\t This is inside the greet() function'\n",
    "    \n",
    "    def welcome():\n",
    "        return \"\\t This is inside the welcome() function\"\n",
    "    \n",
    "    print greet()\n",
    "    print welcome()\n",
    "    print \"Now we are back inside the hello() function\""
   ]
  },
  {
   "cell_type": "code",
   "execution_count": null,
   "metadata": {},
   "outputs": [],
   "source": [
    "hello()"
   ]
  },
  {
   "cell_type": "code",
   "execution_count": null,
   "metadata": {},
   "outputs": [],
   "source": [
    "welcome()"
   ]
  },
  {
   "cell_type": "markdown",
   "metadata": {},
   "source": [
    "# Returning Functions"
   ]
  },
  {
   "cell_type": "code",
   "execution_count": null,
   "metadata": {
    "collapsed": true
   },
   "outputs": [],
   "source": [
    "def hello(name='Ruru'):\n",
    "    \n",
    "    def greet():\n",
    "        return '\\t This is inside the greet() function'\n",
    "    \n",
    "    def welcome():\n",
    "        return \"\\t This is inside the welcome() function\"\n",
    "    \n",
    "    if name == 'Ruru':\n",
    "        return greet\n",
    "    else:\n",
    "        return welcome"
   ]
  },
  {
   "cell_type": "code",
   "execution_count": null,
   "metadata": {
    "collapsed": true
   },
   "outputs": [],
   "source": [
    "x = hello()"
   ]
  },
  {
   "cell_type": "code",
   "execution_count": null,
   "metadata": {},
   "outputs": [],
   "source": [
    "x"
   ]
  },
  {
   "cell_type": "code",
   "execution_count": null,
   "metadata": {},
   "outputs": [],
   "source": [
    "print x()"
   ]
  },
  {
   "cell_type": "code",
   "execution_count": null,
   "metadata": {},
   "outputs": [],
   "source": [
    "x = hello('Yoyo')"
   ]
  },
  {
   "cell_type": "code",
   "execution_count": null,
   "metadata": {},
   "outputs": [],
   "source": [
    "x"
   ]
  },
  {
   "cell_type": "code",
   "execution_count": null,
   "metadata": {},
   "outputs": [],
   "source": [
    "print x()"
   ]
  },
  {
   "cell_type": "markdown",
   "metadata": {},
   "source": [
    "# Functions as Arguments"
   ]
  },
  {
   "cell_type": "code",
   "execution_count": 69,
   "metadata": {
    "collapsed": true
   },
   "outputs": [],
   "source": [
    "def func2():\n",
    "    return 'Hi Ruru!'\n",
    "\n",
    "def other(func):\n",
    "    print 'Other code would go here'\n",
    "    print func()"
   ]
  },
  {
   "cell_type": "code",
   "execution_count": 70,
   "metadata": {},
   "outputs": [
    {
     "name": "stdout",
     "output_type": "stream",
     "text": [
      "Other code would go here\n",
      "Hi Ruru!\n"
     ]
    }
   ],
   "source": [
    "other(func2)"
   ]
  },
  {
   "cell_type": "markdown",
   "metadata": {},
   "source": [
    "# Creating a Decorator"
   ]
  },
  {
   "cell_type": "code",
   "execution_count": 72,
   "metadata": {},
   "outputs": [],
   "source": [
    "def new_decorator(func):\n",
    "    \n",
    "    def wrap_func():\n",
    "        print 'wrap head'\n",
    "        func()\n",
    "        print 'wrap tail'\n",
    "    \n",
    "    return wrap_func\n",
    "\n",
    "def func_need_decorator():\n",
    "    print 'Need decorator'"
   ]
  },
  {
   "cell_type": "code",
   "execution_count": 74,
   "metadata": {},
   "outputs": [
    {
     "name": "stdout",
     "output_type": "stream",
     "text": [
      "Need decorator\n"
     ]
    }
   ],
   "source": [
    "func_need_decorator()"
   ]
  },
  {
   "cell_type": "code",
   "execution_count": 75,
   "metadata": {
    "collapsed": true
   },
   "outputs": [],
   "source": [
    "func_need_decorator = new_decorator(func_need_decorator)"
   ]
  },
  {
   "cell_type": "code",
   "execution_count": 76,
   "metadata": {},
   "outputs": [
    {
     "name": "stdout",
     "output_type": "stream",
     "text": [
      "wrap head\n",
      "Need decorator\n",
      "wrap tail\n"
     ]
    }
   ],
   "source": [
    "func_need_decorator()"
   ]
  },
  {
   "cell_type": "code",
   "execution_count": 77,
   "metadata": {
    "collapsed": true
   },
   "outputs": [],
   "source": [
    "@new_decorator\n",
    "def func_need_decorator():\n",
    "    print 'Be decorated.'"
   ]
  },
  {
   "cell_type": "code",
   "execution_count": 78,
   "metadata": {},
   "outputs": [
    {
     "name": "stdout",
     "output_type": "stream",
     "text": [
      "wrap head\n",
      "Be decorated.\n",
      "wrap tail\n"
     ]
    }
   ],
   "source": [
    "func_need_decorator()"
   ]
  },
  {
   "cell_type": "code",
   "execution_count": null,
   "metadata": {
    "collapsed": true
   },
   "outputs": [],
   "source": []
  }
 ],
 "metadata": {
  "kernelspec": {
   "display_name": "Python 3",
   "language": "python",
   "name": "python3"
  },
  "language_info": {
   "codemirror_mode": {
    "name": "ipython",
    "version": 2
   },
   "file_extension": ".py",
   "mimetype": "text/x-python",
   "name": "python",
   "nbconvert_exporter": "python",
   "pygments_lexer": "ipython2",
   "version": "2.7.13"
  }
 },
 "nbformat": 4,
 "nbformat_minor": 2
}
